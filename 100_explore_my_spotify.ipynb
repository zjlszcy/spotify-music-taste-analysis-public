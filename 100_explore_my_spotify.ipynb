{
 "cells": [
  {
   "cell_type": "markdown",
   "metadata": {},
   "source": [
    "<div class=\"alert alert-block alert-info\">\n",
    "This notebook is to explore the methods/features in Spotipy.\n",
    "</div>"
   ]
  },
  {
   "cell_type": "code",
   "execution_count": 1,
   "metadata": {},
   "outputs": [],
   "source": [
    "import numpy as np\n",
    "import pandas as pd\n",
    "from pprint import pprint\n",
    "import sys\n",
    "\n",
    "from IPython.core.interactiveshell import InteractiveShell\n",
    "InteractiveShell.ast_node_interactivity = \"all\"\n",
    "np.set_printoptions(threshold=sys.maxsize)\n",
    "\n",
    "pd.set_option('display.max_columns', 100)\n",
    "pd.set_option('display.max_rows', 100)"
   ]
  },
  {
   "cell_type": "code",
   "execution_count": 2,
   "metadata": {},
   "outputs": [],
   "source": [
    "import spotipy\n",
    "import spotipy.util as util\n",
    "from spotipy.oauth2 import SpotifyClientCredentials, SpotifyOAuth\n",
    "# from authorization import username, cid, secret # obtain this when you sign up spotify web api"
   ]
  },
  {
   "cell_type": "code",
   "execution_count": 3,
   "metadata": {},
   "outputs": [],
   "source": [
    "import logging\n",
    "logger = logging.getLogger('examples')\n",
    "logging.basicConfig(level='INFO')"
   ]
  },
  {
   "cell_type": "markdown",
   "metadata": {},
   "source": [
    "## Client Authorization"
   ]
  },
  {
   "cell_type": "code",
   "execution_count": 7,
   "metadata": {},
   "outputs": [],
   "source": [
    "scope = (\n",
    "    'playlist-modify-public '\n",
    "    'user-library-read '\n",
    "    'user-follow-read '\n",
    "    'user-library-modify '\n",
    "    'user-read-private '\n",
    "    'user-top-read '\n",
    "    'user-follow-modify '\n",
    "    'user-read-recently-played '\n",
    "    'ugc-image-upload '\n",
    "    'user-read-playback-state '\n",
    ")"
   ]
  },
  {
   "cell_type": "code",
   "execution_count": 8,
   "metadata": {},
   "outputs": [],
   "source": [
    "sp = spotipy.Spotify(client_credentials_manager=SpotifyClientCredentials(cid, secret),\n",
    "                     auth_manager=SpotifyOAuth(client_id=cid, \n",
    "                                               client_secret=secret, \n",
    "                                               redirect_uri='http://localhost:1234/chenyun/', # from spotify web api \n",
    "                                               username=username, \n",
    "                                               scope=scope))"
   ]
  },
  {
   "cell_type": "markdown",
   "metadata": {},
   "source": [
    "## Basic features"
   ]
  },
  {
   "cell_type": "code",
   "execution_count": 9,
   "metadata": {},
   "outputs": [
    {
     "name": "stdout",
     "output_type": "stream",
     "text": [
      "===================\n",
      "My Account Info\n",
      "===================\n"
     ]
    },
    {
     "data": {
      "text/plain": [
       "{'display_name': 'Chenyun  Zhu', 'product': 'premium'}"
      ]
     },
     "execution_count": 9,
     "metadata": {},
     "output_type": "execute_result"
    }
   ],
   "source": [
    "res = sp.me()\n",
    "\n",
    "print(\"===================\")\n",
    "print(\"My Account Info\")\n",
    "print(\"===================\")\n",
    "{k:v for k,v in res.items() if k in ['display_name', 'product']}"
   ]
  },
  {
   "cell_type": "code",
   "execution_count": 10,
   "metadata": {},
   "outputs": [
    {
     "name": "stdout",
     "output_type": "stream",
     "text": [
      "===================\n",
      "My Public Playlists\n",
      "===================\n",
      "Honey!:\n",
      "\tGood vibes!\n",
      "Breeze:\n",
      "\tAcoustic chill...\n",
      "Rainy mood:\n",
      "\tidk.\n",
      "Starred:\n",
      "\tAll favorites in one place. 2013 - Now.\n",
      "Lately:\n",
      "\tRecent favorites.\n",
      "Workout!:\n",
      "\tStay motivated!\n",
      "Beats:\n",
      "\tRhythmic...\n",
      "Chill-out:\n",
      "\tKeep calm and focus.\n",
      "Coding Vibes:\n",
      "\tWake up, drink coffee and punch today in the face...\n",
      "Spotify Project:\n",
      "\tSongs in this list are my top favorites.\n",
      "Kitchen Swagger:\n",
      "\tGet jiggy in the kitchen with this groovy playlist.\n",
      "Your Favorite Coffeehouse:\n",
      "\tCurl up in your favorite spot with some sweet, mellow tunes...\n",
      "Starbucks Coffeehouse Pop:\n",
      "\tA playlist for when you need a quick burst of glorious uptempo pop music!\n",
      " Coding / Hacking / Feeling like a 80's scifi superhero:\n",
      "\t\n",
      "Dance Hits:\n",
      "\tAll the <a href=\"spotify:genre:edm_dance\">dance</a> hits! Cover: Avicii\n",
      "Peaceful Guitar:\n",
      "\tUnwind to these calm classical guitar pieces.\n",
      "Peaceful Piano:\n",
      "\tRelax and indulge with beautiful piano pieces\n",
      "Concert YY黃偉文作品展:\n",
      "\tConcert YY黃偉文作品展是香港填詞人黃偉文的一個作品音樂會，獻上18年填詞生涯的精選作品，大部分並更邀得原唱者作現場演繹\n",
      "Shawn Mendes Setlist:\n",
      "\t\n",
      "MM:\n",
      "\tMorning Moon\n",
      "Roadtrip:\n",
      "\t\n"
     ]
    }
   ],
   "source": [
    "res = sp.current_user_playlists()\n",
    "\n",
    "print(\"===================\")\n",
    "print(\"My Public Playlists\")\n",
    "print(\"===================\")\n",
    "for i, item in enumerate(res['items']):\n",
    "    print(f\"{item['name']}:\\n\\t{item['description']}\")"
   ]
  },
  {
   "cell_type": "markdown",
   "metadata": {},
   "source": [
    "`time range`\n",
    "- long_term (calculated from several years of data and including all new data as it becomes available)\n",
    "- medium_term (approximately last 6 months)\n",
    "- short_term (approximately last 4 weeks)"
   ]
  },
  {
   "cell_type": "code",
   "execution_count": 11,
   "metadata": {},
   "outputs": [
    {
     "name": "stdout",
     "output_type": "stream",
     "text": [
      "===================\n",
      "  My Top Artists\n",
      "===================\n",
      "\n",
      "Range: short_term\n",
      "1 Joey Yung --> ['c-pop', 'cantopop']\n",
      "2 Stefanie Sun --> ['c-pop', 'mandopop', 'singaporean mandopop', 'singaporean pop', 'singaporean singer-songwriter']\n",
      "3 Jay Chou --> ['c-pop', 'mandopop', 'taiwan pop', 'zhongguo feng']\n",
      "4 JJ Lin --> ['mandopop', 'singaporean mandopop', 'singaporean pop']\n",
      "5 Mayday --> ['c-pop', 'mandopop', 'taiwan pop']\n",
      "\n",
      "Range: medium_term\n",
      "1 Joey Yung --> ['c-pop', 'cantopop']\n",
      "2 Mayday --> ['c-pop', 'mandopop', 'taiwan pop']\n",
      "3 Jay Chou --> ['c-pop', 'mandopop', 'taiwan pop', 'zhongguo feng']\n",
      "4 Hins Cheung --> ['c-pop', 'cantopop', 'mandopop']\n",
      "5 JJ Lin --> ['mandopop', 'singaporean mandopop', 'singaporean pop']\n",
      "\n",
      "Range: long_term\n",
      "1 Joey Yung --> ['c-pop', 'cantopop']\n",
      "2 JJ Lin --> ['mandopop', 'singaporean mandopop', 'singaporean pop']\n",
      "3 Jay Chou --> ['c-pop', 'mandopop', 'taiwan pop', 'zhongguo feng']\n",
      "4 Mayday --> ['c-pop', 'mandopop', 'taiwan pop']\n",
      "5 Charlie Puth --> ['dance pop', 'pop', 'post-teen pop', 'viral pop']\n",
      "\n"
     ]
    }
   ],
   "source": [
    "ranges = ['short_term', 'medium_term', 'long_term']\n",
    "\n",
    "print(\"===================\")\n",
    "print(\"  My Top Artists\")\n",
    "print(\"===================\\n\")\n",
    "for sp_range in ['short_term', 'medium_term', 'long_term']:\n",
    "    print(f\"Range: {sp_range}\")\n",
    "    results = sp.current_user_top_artists(time_range=sp_range, limit=5)\n",
    "\n",
    "    for i, item in enumerate(results['items']):\n",
    "        print(f\"{i+1} {item['name']} --> {item['genres']}\")\n",
    "    print()"
   ]
  },
  {
   "cell_type": "code",
   "execution_count": 9,
   "metadata": {},
   "outputs": [
    {
     "name": "stdout",
     "output_type": "stream",
     "text": [
      "===================\n",
      "  My Top Tracks\n",
      "===================\n",
      "\n",
      "range: short_term\n",
      "0 浪費眼淚 // Ella Chen\n",
      "1 明天 // DGX\n",
      "2 信愛成癮 // Ella Chen\n",
      "3 異地戀人 // By2\n",
      "4 最美不過初相見 // Niko Sun\n",
      "\n",
      "range: medium_term\n",
      "0 越唱越強 // Joey Yung\n",
      "1 Honey! (1314容祖兒演唱會) // Joey Yung\n",
      "2 What's Up // Joey Yung\n",
      "3 隆重登場 // Joey Yung\n",
      "4 心花怒放 // Joey Yung\n",
      "\n",
      "range: long_term\n",
      "0 習慣失戀 // Joey Yung\n",
      "1 天后 // Andrew Tan\n",
      "2 面具 // Alfred Hui\n",
      "3 空港 // Joey Yung\n",
      "4 怯 // Joey Yung\n",
      "\n"
     ]
    }
   ],
   "source": [
    "ranges = ['short_term', 'medium_term', 'long_term']\n",
    "\n",
    "print(\"===================\")\n",
    "print(\"  My Top Tracks\")\n",
    "print(\"===================\\n\")\n",
    "\n",
    "for sp_range in ranges:\n",
    "    print(\"range:\", sp_range)\n",
    "    results = sp.current_user_top_tracks(time_range=sp_range, limit=5)\n",
    "    for i, item in enumerate(results['items']):\n",
    "        print(i, item['name'], '//', item['artists'][0]['name'])\n",
    "    print()"
   ]
  },
  {
   "cell_type": "code",
   "execution_count": 16,
   "metadata": {},
   "outputs": [],
   "source": [
    "def get_artist(name):\n",
    "    results = sp.search(q='artist:' + name, type='artist')\n",
    "    items = results['artists']['items']\n",
    "    if len(items) > 0:\n",
    "        return items[0]\n",
    "    else:\n",
    "        return None\n",
    "    \n",
    "def show_artist_albums(artist):\n",
    "    albums = []\n",
    "    results = sp.artist_albums(get_artist(artist)['id'], album_type='album') # single\n",
    "    albums.extend(results['items'])\n",
    "    while results['next']:\n",
    "        results = sp.next(results)\n",
    "        albums.extend(results['items'])\n",
    "    seen = set()  # to avoid dups\n",
    "    albums.sort(key=lambda album: album['name'].lower())\n",
    "    for album in albums:\n",
    "        name = album['name']\n",
    "        if name not in seen:\n",
    "            print(f\"Album: {name}\")\n",
    "#             logger.info('ALBUM: %s', name)\n",
    "            seen.add(name)"
   ]
  },
  {
   "cell_type": "code",
   "execution_count": 17,
   "metadata": {},
   "outputs": [
    {
     "name": "stdout",
     "output_type": "stream",
     "text": [
      "Album: Death Race For Love\n",
      "Album: Future & Juice WRLD Present... WRLD ON DRUGS\n",
      "Album: Goodbye & Good Riddance\n",
      "Album: Legends Never Die\n"
     ]
    }
   ],
   "source": [
    "show_artist_albums('juice wrld')"
   ]
  },
  {
   "cell_type": "code",
   "execution_count": 12,
   "metadata": {},
   "outputs": [],
   "source": [
    "# sp.track('spotify:track:1o5PE9VNUd8EJtcYLA3QxP')"
   ]
  },
  {
   "cell_type": "code",
   "execution_count": 18,
   "metadata": {},
   "outputs": [
    {
     "name": "stdout",
     "output_type": "stream",
     "text": [
      "[{'acousticness': 0.224,\n",
      "  'analysis_url': 'https://api.spotify.com/v1/audio-analysis/6wQlQrTY5mVS8EGaFZVwVF',\n",
      "  'danceability': 0.694,\n",
      "  'duration_ms': 196180,\n",
      "  'energy': 0.685,\n",
      "  'id': '6wQlQrTY5mVS8EGaFZVwVF',\n",
      "  'instrumentalness': 0,\n",
      "  'key': 6,\n",
      "  'liveness': 0.124,\n",
      "  'loudness': -6.535,\n",
      "  'mode': 0,\n",
      "  'speechiness': 0.133,\n",
      "  'tempo': 158.831,\n",
      "  'time_signature': 4,\n",
      "  'track_href': 'https://api.spotify.com/v1/tracks/6wQlQrTY5mVS8EGaFZVwVF',\n",
      "  'type': 'audio_features',\n",
      "  'uri': 'spotify:track:6wQlQrTY5mVS8EGaFZVwVF',\n",
      "  'valence': 0.306}]\n"
     ]
    }
   ],
   "source": [
    "pprint(sp.audio_features('spotify:track:6wQlQrTY5mVS8EGaFZVwVF'))"
   ]
  },
  {
   "cell_type": "code",
   "execution_count": 19,
   "metadata": {},
   "outputs": [
    {
     "name": "stdout",
     "output_type": "stream",
     "text": [
      "0 WAP (feat. Megan Thee Stallion)\n",
      "1 Smile (with The Weeknd)\n",
      "2 Daylight\n",
      "3 BLAME IT ON BABY (DELUXE)\n",
      "4 Limbo\n",
      "5 Dreamland\n",
      "6 Born Here Live Here Die Here\n",
      "7 Freak\n",
      "8 my ex's best friend (with blackbear)\n",
      "9 BRONSON\n",
      "10 AUATC\n",
      "11 Aquí Yo Mando\n",
      "12 Top Shotta\n",
      "13 Monte Carlo\n",
      "14 Viva el Perreo\n",
      "15 Pinned to the Cross (feat. Finn Matthews)\n",
      "16 Kings & Queens, Pt. 2 (feat. Lauv & Saweetie)\n",
      "17 Change Your Mind\n",
      "18 X Tapes\n",
      "19 Quarantine\n",
      "20 Stayback\n",
      "21 Sorry\n",
      "22 JAGUAR\n",
      "23 B.B.H.E.\n",
      "24 Pray 4 Love (Deluxe)\n",
      "25 Papás\n",
      "26 In Search of Sunrise 16\n",
      "27 Somewhere\n",
      "28 Rise and Shine\n",
      "29 Holy Water\n",
      "30 The Dirt and the Stars\n",
      "31 Purple Noon\n",
      "32 1984\n",
      "33 What U Need\n",
      "34 Speak To Me\n",
      "35 Pink Elephant\n",
      "36 Everlasting\n",
      "37 Live At Neon Garden: EDC Mexico 2020\n",
      "38 A Young Man's Country\n",
      "39 Every Time You Leave [Feat. Delaney Jane] (Live Acoustic)\n",
      "40 I Go To My Heart\n",
      "41 Colors (feat. Wale)\n",
      "42 my future\n",
      "43 My Oasis (feat. Burna Boy)\n",
      "44 Spotify Singles\n",
      "45 cardigan (cabin in candlelight version)\n",
      "46 What Could Possibly Go Wrong\n",
      "47 I Should Probably Go To Bed\n",
      "48 Who's Laughing Now\n",
      "49 Move Ya Hips (feat. Nicki Minaj & MadeinTYO)\n",
      "50 How They Remember You\n",
      "51 Cup Of Beats\n",
      "52 B7\n",
      "53 Narrow Road (feat. Lil Baby)\n",
      "54 Somewhere (feat. Gus Dapperton)\n",
      "55 Ain’t No Peace\n",
      "56 A Hero's Death\n",
      "57 Hawái\n",
      "58 NO DRIBBLE (with Stunna 4 Vegas)\n",
      "59 Douha (Mali Mali)\n",
      "60 Dropped Frames, Vol. 2\n",
      "61 You and Islands\n",
      "62 Run\n",
      "63 Road To Fast 9 Mixtape\n",
      "64 Quien Contra Mi 2\n",
      "65 Cry (with John Martin)\n",
      "66 WE ARE CHAOS\n",
      "67 The Lion King: The Gift [Deluxe Edition]\n",
      "68 To Love a Fool\n",
      "69 Freestyle\n",
      "70 Mafia Bidness\n",
      "71 Chris Tomlin & Friends\n",
      "72 Whole New Mess\n",
      "73 Riptide\n",
      "74 Such Pretty Forks in the Road\n",
      "75 Puerta Abierta, Vol. 1 (En Vivo)\n",
      "76 Boots No. 2: The Lost Songs, Vol. 1\n",
      "77 Anjunabeats Volume 15\n",
      "78 Blanco\n",
      "79 Baby Beluga (40th Anniversary Version)\n",
      "80 Black Love\n",
      "81 In And Out Of Love\n",
      "82 Black Eyes Blue / CMFT Must Be Stopped (feat. Tech N9ne and Kid Bookie)\n",
      "83 Live Out Your Love\n",
      "84 Welcome to Hard Times\n",
      "85 folklore\n",
      "86 UN DIA (ONE DAY) (Feat. Tainy)\n",
      "87 Spotify Singles\n",
      "88 No Pressure\n",
      "89 Lewis Street\n",
      "90 F*CK LOVE\n",
      "91 Nobody's Love\n",
      "92 Take You Dancing\n",
      "93 Happy Anywhere (feat. Gwen Stefani)\n",
      "94 WUNNA (Deluxe)\n",
      "95 Patience\n",
      "96 Only You Freestyle\n",
      "97 supercuts\n",
      "98 Cabin Fever\n",
      "99 Ho, why is you here ?\n"
     ]
    }
   ],
   "source": [
    "response= sp.new_releases()\n",
    "\n",
    "while response:\n",
    "    albums = response['albums']\n",
    "    for i, item in enumerate(albums['items']):\n",
    "        print(albums['offset'] + i, item['name'])\n",
    "\n",
    "    if albums['next']:\n",
    "        response = sp.next(albums)\n",
    "    else:\n",
    "        response = None"
   ]
  },
  {
   "cell_type": "code",
   "execution_count": 14,
   "metadata": {},
   "outputs": [],
   "source": [
    "# sp.user_playlist_create(username, 'test')"
   ]
  },
  {
   "cell_type": "code",
   "execution_count": 15,
   "metadata": {},
   "outputs": [],
   "source": [
    "# sp.user_playlist_add_tracks(username, playlist_id='0P3lsx1ZRnKNHdbRPbeOCZ', tracks=['spotify:track:4Oun2ylbjFKMPTiaSbbCih'])"
   ]
  },
  {
   "cell_type": "code",
   "execution_count": 16,
   "metadata": {},
   "outputs": [],
   "source": [
    "# sp.recommendations(seed_tracks=['spotify:track:79lZ2PKIGXKZS2QaC7ZqQv'])['tracks']"
   ]
  }
 ],
 "metadata": {
  "kernelspec": {
   "display_name": "Python 3",
   "language": "python",
   "name": "python3"
  },
  "language_info": {
   "codemirror_mode": {
    "name": "ipython",
    "version": 3
   },
   "file_extension": ".py",
   "mimetype": "text/x-python",
   "name": "python",
   "nbconvert_exporter": "python",
   "pygments_lexer": "ipython3",
   "version": "3.7.6"
  }
 },
 "nbformat": 4,
 "nbformat_minor": 4
}
